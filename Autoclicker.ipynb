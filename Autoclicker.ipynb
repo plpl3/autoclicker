{
 "cells": [
  {
   "cell_type": "code",
   "execution_count": 1,
   "id": "ffe72957",
   "metadata": {},
   "outputs": [],
   "source": [
    "import threading\n",
    "import time as tm\n",
    "import pyautogui as pag"
   ]
  },
  {
   "cell_type": "code",
   "execution_count": null,
   "id": "a028b847",
   "metadata": {},
   "outputs": [],
   "source": [
    "stop_flag = False\n",
    "def wait_stop():\n",
    "    global stop_flag\n",
    "    c = ''\n",
    "    while 1:\n",
    "        if c == 'OK':\n",
    "            stop_flag = True\n",
    "            print('_'*10,'Stopping Autoclicker...','_'*10, end = '\\n')\n",
    "            break\n",
    "        else:\n",
    "            print('_'*10, 'Autoclicker is working....','_'*10, end = '\\r')\n",
    "            c = pag.alert('To stop autoclicker press OK.', 'Autoclicker')\n",
    "\n",
    "def autoclicker():\n",
    "    key = pag.prompt('Key?')\n",
    "    time_int = float(pag.prompt('Time interval?'))\n",
    "    while 1:\n",
    "        tm.sleep(time_int)\n",
    "        pag.press(key)\n",
    "        if stop_flag == True:\n",
    "            break\n",
    "thread1 = threading.Thread(target=wait_stop)\n",
    "thread1.start()\n",
    "autoclicker()\n",
    "print('\\n','\\033[1mAutoclicker Stopped')  "
   ]
  }
 ],
 "metadata": {
  "kernelspec": {
   "display_name": "Python 3 (ipykernel)",
   "language": "python",
   "name": "python3"
  },
  "language_info": {
   "codemirror_mode": {
    "name": "ipython",
    "version": 3
   },
   "file_extension": ".py",
   "mimetype": "text/x-python",
   "name": "python",
   "nbconvert_exporter": "python",
   "pygments_lexer": "ipython3",
   "version": "3.11.5"
  }
 },
 "nbformat": 4,
 "nbformat_minor": 5
}
